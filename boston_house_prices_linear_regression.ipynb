{
  "nbformat": 4,
  "nbformat_minor": 0,
  "metadata": {
    "colab": {
      "name": "boston_house_prices_linear_regression.ipynb",
      "provenance": [],
      "collapsed_sections": [],
      "toc_visible": true
    },
    "kernelspec": {
      "name": "python3",
      "display_name": "Python 3"
    },
    "language_info": {
      "name": "python"
    },
    "accelerator": "GPU"
  },
  "cells": [
    {
      "cell_type": "markdown",
      "metadata": {
        "id": "4tnzYqnfJ3an"
      },
      "source": [
        "# Boston house prices prediction with linear regression using scikit learn"
      ]
    },
    {
      "cell_type": "code",
      "metadata": {
        "id": "P_wSKpFZPhLa"
      },
      "source": [
        "import numpy as np\n",
        "import pandas as pd \n",
        "from sklearn import datasets,metrics,linear_model\n",
        "from sklearn.model_selection import train_test_split\n",
        "import matplotlib.pyplot as plt"
      ],
      "execution_count": 10,
      "outputs": []
    },
    {
      "cell_type": "code",
      "metadata": {
        "id": "WZIe2GoDPhOz"
      },
      "source": [
        "boston = datasets.load_boston()\n",
        "X = boston.data\n",
        "y = boston.target"
      ],
      "execution_count": 11,
      "outputs": []
    },
    {
      "cell_type": "code",
      "metadata": {
        "id": "pPlacRzTSRuO"
      },
      "source": [
        "lr = linear_model.LinearRegression()"
      ],
      "execution_count": 12,
      "outputs": []
    },
    {
      "cell_type": "code",
      "metadata": {
        "colab": {
          "base_uri": "https://localhost:8080/",
          "height": 283
        },
        "id": "hSnM07gP_9wT",
        "outputId": "a703aa70-e115-414d-e260-cf747884ad14"
      },
      "source": [
        "plt.scatter(X.T[0], y)"
      ],
      "execution_count": 13,
      "outputs": [
        {
          "output_type": "execute_result",
          "data": {
            "text/plain": [
              "<matplotlib.collections.PathCollection at 0x7f21f16d90d0>"
            ]
          },
          "metadata": {
            "tags": []
          },
          "execution_count": 13
        },
        {
          "output_type": "display_data",
          "data": {
            "image/png": "[encoded data removed]",
            "text/plain": [
              "<Figure size 432x288 with 1 Axes>"
            ]
          },
          "metadata": {
            "tags": [],
            "needs_background": "light"
          }
        }
      ]
    },
    {
      "cell_type": "code",
      "metadata": {
        "id": "GX_pHnXvWeeE"
      },
      "source": [
        "X_train, X_test, y_train, y_test = train_test_split(X,y, test_size = 0.2)"
      ],
      "execution_count": 14,
      "outputs": []
    },
    {
      "cell_type": "code",
      "metadata": {
        "colab": {
          "base_uri": "https://localhost:8080/"
        },
        "id": "sJY7fV7J85c3",
        "outputId": "b771d69e-73ee-4e12-ac26-f2b7780a9d99"
      },
      "source": [
        "lr.fit(X_train,y_train)"
      ],
      "execution_count": 15,
      "outputs": [
        {
          "output_type": "execute_result",
          "data": {
            "text/plain": [
              "LinearRegression(copy_X=True, fit_intercept=True, n_jobs=None, normalize=False)"
            ]
          },
          "metadata": {
            "tags": []
          },
          "execution_count": 15
        }
      ]
    },
    {
      "cell_type": "code",
      "metadata": {
        "colab": {
          "base_uri": "https://localhost:8080/"
        },
        "id": "OBeuD2OM9fyF",
        "outputId": "a68cda0b-a24a-49db-c14d-22856a267a33"
      },
      "source": [
        "predictions = lr.predict(X_test)\n",
        "r2 = lr.score(X,y)\n",
        "print(\"R^2 value: \",r2)\n",
        "print(\"coeff: \",lr.coef_)\n",
        "print(\"intercept: \",lr.intercept_)"
      ],
      "execution_count": 18,
      "outputs": [
        {
          "output_type": "stream",
          "text": [
            "R^2 value:  0.7395463945277547\n",
            "coeff:  [-1.03218787e-01  5.46442320e-02  2.54247306e-02  2.35592670e+00\n",
            " -1.87182392e+01  3.63267208e+00 -3.25819441e-03 -1.49680086e+00\n",
            "  2.99896108e-01 -1.22020126e-02 -9.08060263e-01  8.79119013e-03\n",
            " -5.18940586e-01]\n",
            "intercept:  37.64202057294447\n"
          ],
          "name": "stdout"
        }
      ]
    }
  ]
}