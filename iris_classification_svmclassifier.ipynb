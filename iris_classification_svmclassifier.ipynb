{
  "nbformat": 4,
  "nbformat_minor": 0,
  "metadata": {
    "colab": {
      "name": "iris_classification_svmclassifier.ipynb",
      "provenance": [],
      "collapsed_sections": [],
      "toc_visible": true
    },
    "kernelspec": {
      "name": "python3",
      "display_name": "Python 3"
    },
    "language_info": {
      "name": "python"
    },
    "accelerator": "GPU"
  },
  "cells": [
    {
      "cell_type": "markdown",
      "metadata": {
        "id": "4tnzYqnfJ3an"
      },
      "source": [
        "# iris classification with svm classifier using scikit learn"
      ]
    },
    {
      "cell_type": "code",
      "metadata": {
        "id": "P_wSKpFZPhLa"
      },
      "source": [
        "import numpy as np\n",
        "import pandas as pd \n",
        "from sklearn import datasets,metrics,svm\n",
        "from sklearn.model_selection import train_test_split\n",
        "from sklearn.preprocessing import LabelEncoder\n",
        "import matplotlib.pyplot as plt"
      ],
      "execution_count": 6,
      "outputs": []
    },
    {
      "cell_type": "code",
      "metadata": {
        "id": "WZIe2GoDPhOz"
      },
      "source": [
        "iris = datasets.load_iris()\n",
        "X = iris.data\n",
        "y = iris.target"
      ],
      "execution_count": 2,
      "outputs": []
    },
    {
      "cell_type": "code",
      "metadata": {
        "id": "pPlacRzTSRuO"
      },
      "source": [
        "classes = ['Iris Setosa','Iris Versicolour','Iris Virginica']"
      ],
      "execution_count": 3,
      "outputs": []
    },
    {
      "cell_type": "code",
      "metadata": {
        "id": "GX_pHnXvWeeE"
      },
      "source": [
        "X_train, X_test, y_train, y_test = train_test_split(X,y, test_size = 0.2)"
      ],
      "execution_count": 4,
      "outputs": []
    },
    {
      "cell_type": "code",
      "metadata": {
        "colab": {
          "base_uri": "https://localhost:8080/"
        },
        "id": "sJY7fV7J85c3",
        "outputId": "b175c9e9-7192-4f6c-e18b-5376778341cb"
      },
      "source": [
        "model = svm.SVC()\n",
        "model.fit(X_train,y_train)"
      ],
      "execution_count": 7,
      "outputs": [
        {
          "output_type": "execute_result",
          "data": {
            "text/plain": [
              "SVC(C=1.0, break_ties=False, cache_size=200, class_weight=None, coef0=0.0,\n",
              "    decision_function_shape='ovr', degree=3, gamma='scale', kernel='rbf',\n",
              "    max_iter=-1, probability=False, random_state=None, shrinking=True,\n",
              "    tol=0.001, verbose=False)"
            ]
          },
          "metadata": {
            "tags": []
          },
          "execution_count": 7
        }
      ]
    },
    {
      "cell_type": "code",
      "metadata": {
        "colab": {
          "base_uri": "https://localhost:8080/"
        },
        "id": "OBeuD2OM9fyF",
        "outputId": "dc686e7d-62b1-4c4a-e43c-f3953790043f"
      },
      "source": [
        "predictions = model.predict(X_test)\n",
        "accuracy = metrics.accuracy_score(y_test,predictions)\n",
        "print(\"Accuracy: \",accuracy)"
      ],
      "execution_count": 8,
      "outputs": [
        {
          "output_type": "stream",
          "text": [
            "Accuracy:  0.9666666666666667\n"
          ],
          "name": "stdout"
        }
      ]
    }
  ]
}