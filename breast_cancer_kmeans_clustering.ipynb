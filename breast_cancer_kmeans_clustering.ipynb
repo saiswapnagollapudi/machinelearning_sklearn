{
  "nbformat": 4,
  "nbformat_minor": 0,
  "metadata": {
    "colab": {
      "name": "breast_cancer_kmeans_clustering.ipynb",
      "provenance": [],
      "collapsed_sections": [],
      "toc_visible": true
    },
    "kernelspec": {
      "name": "python3",
      "display_name": "Python 3"
    },
    "language_info": {
      "name": "python"
    },
    "accelerator": "GPU"
  },
  "cells": [
    {
      "cell_type": "markdown",
      "metadata": {
        "id": "4tnzYqnfJ3an"
      },
      "source": [
        "# Breast cancer clustering with k means using scikit learn"
      ]
    },
    {
      "cell_type": "code",
      "metadata": {
        "id": "P_wSKpFZPhLa"
      },
      "source": [
        "import numpy as np\n",
        "import pandas as pd \n",
        "from sklearn.datasets import load_breast_cancer\n",
        "from sklearn.cluster import KMeans\n",
        "from sklearn.model_selection import train_test_split\n",
        "from sklearn.metrics import accuracy_score\n",
        "import matplotlib.pyplot as plt\n",
        "from sklearn.preprocessing import scale"
      ],
      "execution_count": 24,
      "outputs": []
    },
    {
      "cell_type": "code",
      "metadata": {
        "id": "WZIe2GoDPhOz"
      },
      "source": [
        "bc = load_breast_cancer()\n",
        "X = scale(bc.data)\n",
        "y = bc.target"
      ],
      "execution_count": 25,
      "outputs": []
    },
    {
      "cell_type": "code",
      "metadata": {
        "id": "GX_pHnXvWeeE"
      },
      "source": [
        "X_train, X_test, y_train, y_test = train_test_split(X,y, test_size = 0.2)"
      ],
      "execution_count": 26,
      "outputs": []
    },
    {
      "cell_type": "code",
      "metadata": {
        "colab": {
          "base_uri": "https://localhost:8080/"
        },
        "id": "sJY7fV7J85c3",
        "outputId": "9a01dff6-e1a1-4025-e314-0b30e2ff27ac"
      },
      "source": [
        "model = KMeans(n_clusters = 2,random_state = 0)\n",
        "model.fit(X_train)"
      ],
      "execution_count": 29,
      "outputs": [
        {
          "output_type": "execute_result",
          "data": {
            "text/plain": [
              "KMeans(algorithm='auto', copy_x=True, init='k-means++', max_iter=300,\n",
              "       n_clusters=2, n_init=10, n_jobs=None, precompute_distances='auto',\n",
              "       random_state=0, tol=0.0001, verbose=0)"
            ]
          },
          "metadata": {
            "tags": []
          },
          "execution_count": 29
        }
      ]
    },
    {
      "cell_type": "code",
      "metadata": {
        "colab": {
          "base_uri": "https://localhost:8080/"
        },
        "id": "OBeuD2OM9fyF",
        "outputId": "73b331f2-0dde-4c60-df40-d00fbca6b2aa"
      },
      "source": [
        "predictions = model.predict(X_test)\n",
        "labels = model.labels_\n",
        "print(\"Accuracy: \",accuracy_score(y_test,predictions))"
      ],
      "execution_count": 30,
      "outputs": [
        {
          "output_type": "stream",
          "text": [
            "Accuracy:  0.9298245614035088\n"
          ],
          "name": "stdout"
        }
      ]
    },
    {
      "cell_type": "code",
      "metadata": {
        "colab": {
          "base_uri": "https://localhost:8080/"
        },
        "id": "IqsUVG3tJuZL",
        "outputId": "9ee3f6a4-5e60-4316-84c2-a25a162596ac"
      },
      "source": [
        "print(pd.crosstab(y_train,labels))"
      ],
      "execution_count": 32,
      "outputs": [
        {
          "output_type": "stream",
          "text": [
            "col_0    0    1\n",
            "row_0          \n",
            "0      143   28\n",
            "1       16  268\n"
          ],
          "name": "stdout"
        }
      ]
    }
  ]
}