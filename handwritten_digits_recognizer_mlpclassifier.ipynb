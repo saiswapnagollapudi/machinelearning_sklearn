{
  "nbformat": 4,
  "nbformat_minor": 0,
  "metadata": {
    "colab": {
      "name": "handwritten_digits_recognizer_mlpclassifier.ipynb",
      "provenance": [],
      "collapsed_sections": [],
      "toc_visible": true
    },
    "kernelspec": {
      "name": "python3",
      "display_name": "Python 3"
    },
    "language_info": {
      "name": "python"
    },
    "accelerator": "GPU"
  },
  "cells": [
    {
      "cell_type": "markdown",
      "metadata": {
        "id": "4tnzYqnfJ3an"
      },
      "source": [
        "# Handwritten digits recognizer"
      ]
    },
    {
      "cell_type": "code",
      "metadata": {
        "id": "P_wSKpFZPhLa"
      },
      "source": [
        "from PIL import Image\n",
        "import numpy as np\n",
        "#!pip install mnist\n",
        "import mnist \n",
        "from sklearn.metrics import confusion_matrix\n",
        "from sklearn.neural_network import MLPClassifier"
      ],
      "execution_count": 17,
      "outputs": []
    },
    {
      "cell_type": "code",
      "metadata": {
        "id": "GX_pHnXvWeeE"
      },
      "source": [
        "x_train = mnist.train_images()\n",
        "y_train = mnist.train_labels()\n",
        "x_test = mnist.test_images()\n",
        "y_test = mnist.test_labels()"
      ],
      "execution_count": 18,
      "outputs": []
    },
    {
      "cell_type": "code",
      "metadata": {
        "id": "cTil7suQUh-F"
      },
      "source": [
        "x_train = x_train.reshape((-1,28*28))\n",
        "x_test = x_test.reshape((-1,28*28))"
      ],
      "execution_count": 19,
      "outputs": []
    },
    {
      "cell_type": "code",
      "metadata": {
        "id": "h4yAyYrsVe8B"
      },
      "source": [
        "x_train = x_train/255.0\n",
        "x_test = x_test/255.0"
      ],
      "execution_count": 20,
      "outputs": []
    },
    {
      "cell_type": "code",
      "metadata": {
        "colab": {
          "base_uri": "https://localhost:8080/"
        },
        "id": "sJY7fV7J85c3",
        "outputId": "5243714c-47c8-44c4-e227-d3227cec5b3d"
      },
      "source": [
        "clf = MLPClassifier(solver = \"adam\", activation = 'relu', hidden_layer_sizes = (64,64))\n",
        "clf.fit(x_train, y_train)"
      ],
      "execution_count": 21,
      "outputs": [
        {
          "output_type": "execute_result",
          "data": {
            "text/plain": [
              "MLPClassifier(activation='relu', alpha=0.0001, batch_size='auto', beta_1=0.9,\n",
              "              beta_2=0.999, early_stopping=False, epsilon=1e-08,\n",
              "              hidden_layer_sizes=(64, 64), learning_rate='constant',\n",
              "              learning_rate_init=0.001, max_fun=15000, max_iter=200,\n",
              "              momentum=0.9, n_iter_no_change=10, nesterovs_momentum=True,\n",
              "              power_t=0.5, random_state=None, shuffle=True, solver='adam',\n",
              "              tol=0.0001, validation_fraction=0.1, verbose=False,\n",
              "              warm_start=False)"
            ]
          },
          "metadata": {
            "tags": []
          },
          "execution_count": 21
        }
      ]
    },
    {
      "cell_type": "code",
      "metadata": {
        "colab": {
          "base_uri": "https://localhost:8080/"
        },
        "id": "OBeuD2OM9fyF",
        "outputId": "90ab91cc-35a4-49f4-df3b-40b996d9e5e8"
      },
      "source": [
        "predictions = clf.predict(x_test)\n",
        "acc = confusion_matrix(y_test,predictions)\n",
        "acc"
      ],
      "execution_count": 22,
      "outputs": [
        {
          "output_type": "execute_result",
          "data": {
            "text/plain": [
              "array([[ 971,    1,    0,    0,    0,    0,    3,    2,    2,    1],\n",
              "       [   0, 1123,    3,    1,    0,    1,    1,    2,    4,    0],\n",
              "       [   3,    1, 1012,    1,    3,    1,    3,    6,    2,    0],\n",
              "       [   1,    0,    4,  982,    0,    5,    1,    7,    4,    6],\n",
              "       [   1,    1,    6,    0,  957,    0,    1,    3,    1,   12],\n",
              "       [   2,    0,    0,    8,    2,  868,    3,    1,    5,    3],\n",
              "       [   6,    3,    2,    1,    6,    4,  933,    0,    3,    0],\n",
              "       [   2,    1,   14,    2,    1,    0,    0,  998,    4,    6],\n",
              "       [   4,    1,    1,    3,    3,    3,    1,    2,  953,    3],\n",
              "       [   1,    2,    0,    1,    7,    2,    1,    5,    2,  988]])"
            ]
          },
          "metadata": {
            "tags": []
          },
          "execution_count": 22
        }
      ]
    },
    {
      "cell_type": "code",
      "metadata": {
        "id": "IqsUVG3tJuZL"
      },
      "source": [
        "def accuracy(cm):\n",
        "  diagonal = cm.trace()\n",
        "  elements = cm.sum() \n",
        "  return diagonal/elements"
      ],
      "execution_count": 25,
      "outputs": []
    },
    {
      "cell_type": "code",
      "metadata": {
        "colab": {
          "base_uri": "https://localhost:8080/"
        },
        "id": "HwS7yjVqXHWV",
        "outputId": "0c48fa1b-79a2-454d-c3c8-e47b5102036b"
      },
      "source": [
        "print(\"Accuracy: \",accuracy(acc))"
      ],
      "execution_count": 26,
      "outputs": [
        {
          "output_type": "stream",
          "text": [
            "Accuracy:  0.9785\n"
          ],
          "name": "stdout"
        }
      ]
    }
  ]
}